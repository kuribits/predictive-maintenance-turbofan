{
 "cells": [
  {
   "cell_type": "markdown",
   "metadata": {},
   "source": [
    "# Turbofan POC Part 2: Training\n",
    "CAA 23/07/2020\n",
    "\n",
    "This notebook follows Part 1 which set up the grid infrastructure, and populated the nodes with data.\n",
    "\n",
    "In this notebook, we will run the training. You should be able to run this notebook on any server which is running a PyGridNetwork, or PyGridNode associated with the PyGridNetwork. \n",
    "\n",
    "NOTE: This notebook requires that instances associated with nodes have been sent data using PySyft's .send() method. Additionally, at the time of running this notebook, we were running the following processes.\n",
    "- PyGridNetwork: server Bob (http://localhost:5000)\n",
    "- PyGridNode: server Bob (http://localhost:3000)\n",
    "- PyGridNode: server Alice (http://18.218.13.132:3001)\n",
    "- This Jupyter Notebook: server Bob (http://localhost:8000)—you should be able to run this notebook on any server which is running a PyGridNetwork, or PyGridNode associated with the PyGridNetwork"
   ]
  },
  {
   "cell_type": "markdown",
   "metadata": {},
   "source": [
    "## Import dependencies"
   ]
  },
  {
   "cell_type": "code",
   "execution_count": 14,
   "metadata": {
    "tags": []
   },
   "outputs": [],
   "source": [
    "import syft as sy\n",
    "from syft.grid.public_grid import PublicGridNetwork\n",
    "import torch as torch\n",
    "import torch.nn as nn\n",
    "import torch.optim as optim\n",
    "import torch.nn.functional as F\n",
    "from time import time\n",
    "from statistics import mean\n",
    "from pathlib import Path\n",
    "\n",
    "from turbofanpoc.federated_trainer.helper.trainings_helper import data_result_size, start_federated_training, history\n",
    "from turbofanpoc.federated_trainer.helper.trainings_helper import get_model_error\n",
    "from models import *"
   ]
  },
  {
   "cell_type": "markdown",
   "metadata": {},
   "source": [
    "## Set up network & device"
   ]
  },
  {
   "cell_type": "code",
   "execution_count": 4,
   "metadata": {
    "tags": []
   },
   "outputs": [],
   "source": [
    "hook = sy.TorchHook(torch)\n",
    "device = torch.device(\"cuda:0\" if torch.cuda.is_available() else \"cpu\")\n",
    "if(torch.cuda.is_available()):\n",
    "    torch.set_default_tensor_type(torch.cuda.FloatTensor)"
   ]
  },
  {
   "cell_type": "markdown",
   "metadata": {},
   "source": [
    "## Set up train configs and helper functions"
   ]
  },
  {
   "cell_type": "code",
   "execution_count": null,
   "metadata": {
    "tags": []
   },
   "outputs": [],
   "source": [
    "TRAIN_ID = \"BNFC\"\n",
    "\n",
    "# Grid config\n",
    "GRID_ADDRESS = 'localhost'\n",
    "GRID_PORT = '5000'\n",
    "# Model training config\n",
    "DATA_TAGS = (\"#X\", \"#turbofan\", \"#dataset\")\n",
    "LABEL_TAGS = (\"#Y\", \"#turbofan\", \"#dataset\")\n",
    "# MODEL_ID = \"turbofan\"\n",
    "SAVE_MODEL = True\n",
    "MODEL_DIR = './models'\n",
    "SENSOR_MEAN = torch.tensor(5000) # for normalising data like Turbofan POC\n",
    "SENSOR_STD = torch.tensor(50) # for normalising data like Turbofan POC\n",
    "TRAIN_COLS = 11\n",
    "WINDOW_SIZE = 80\n",
    "MAX_EPOCHS = 100 # used by Turbofan demo authors\n",
    "LOAD_MODEL = True\n",
    "METRICS_INTERVAL = 5\n",
    "AGGREGATION = 'weight' #{weight, gradients}\n",
    "# Differential privacy config\n",
    "DP_TYPE = 'local' #{local, global, layer-wise}\n",
    "\n",
    "def save_model(model, training_rounds, id=\"\"):\n",
    "    if not Path(MODEL_DIR).exists():\n",
    "        Path(MODEL_DIR).mkdir(parents=True)\n",
    "    \"\"\" Save a torch model to disk.\n",
    "\n",
    "    :param model: Model to save\n",
    "    \"\"\"\n",
    "    torch.save(model.state_dict(), \"{}/turbofan_{}_{}.pt\".format(MODEL_DIR, training_rounds, id))\n",
    "\n",
    "\n",
    "def load_initial_model():\n",
    "    \"\"\" Load the model from the initial training from disk.\n",
    "\n",
    "    :return: The initial model\n",
    "    \"\"\"\n",
    "    return torch.load(\"{}/turbofan_initial.pt\".format(MODEL_DIR))\n",
    "\n",
    "\n",
    "def load_latest_model():\n",
    "    \"\"\" Load the latest model created during federated learning from disk.\n",
    "\n",
    "    :return: The latest model\n",
    "    \"\"\"\n",
    "    index = training_rounds - 1\n",
    "    if index == 0:\n",
    "        index = \"initial\"\n",
    "    return torch.load(\"{}/turbofan_{}.pt\".format(MODEL_DIR, index))"
   ]
  },
  {
   "cell_type": "markdown",
   "metadata": {},
   "source": [
    "## Search grid for data"
   ]
  },
  {
   "cell_type": "code",
   "execution_count": 5,
   "metadata": {},
   "outputs": [],
   "source": [
    "tfan_grid = PublicGridNetwork(hook,\"http://\" + GRID_ADDRESS + \":\" + GRID_PORT)"
   ]
  },
  {
   "cell_type": "code",
   "execution_count": 6,
   "metadata": {},
   "outputs": [],
   "source": [
    "if not DP_TYPE:\n",
    "    data = tfan_grid.search(*DATA_TAGS)\n",
    "# for data that has undergone local dp\n",
    "elif DP_TYPE=='local':\n",
    "    data = tfan_grid.search(*DATA_TAGS)\n",
    "else: raise NotImplementedError\n",
    "target = tfan_grid.search(*LABEL_TAGS)"
   ]
  },
  {
   "cell_type": "code",
   "execution_count": 7,
   "metadata": {},
   "outputs": [],
   "source": [
    "data = list(data.values())\n",
    "target = list(target.values())"
   ]
  },
  {
   "cell_type": "code",
   "execution_count": 8,
   "metadata": {
    "tags": []
   },
   "outputs": [
    {
     "output_type": "stream",
     "name": "stdout",
     "text": "[[(Wrapper)>[PointerTensor | me:74986335599 -> bob:42608560662]\n\tTags: #localdp #dataset #X #turbofan \n\tShape: torch.Size([155, 4, 80, 11])\n\tDescription: The input datapoints to the Turbofan dataset....], [(Wrapper)>[PointerTensor | me:34730639663 -> alice:7948937110]\n\tTags: #localdp #dataset #X #turbofan \n\tShape: torch.Size([155, 4, 80, 11])\n\tDescription: The input datapoints to the Turbofan dataset....]]\n"
    }
   ],
   "source": [
    "print(data)"
   ]
  },
  {
   "cell_type": "code",
   "execution_count": 9,
   "metadata": {
    "scrolled": true,
    "tags": []
   },
   "outputs": [
    {
     "output_type": "stream",
     "name": "stdout",
     "text": "[[(Wrapper)>[PointerTensor | me:429459714 -> bob:25910322289]\n\tTags: #turbofan #dataset #Y \n\tShape: torch.Size([155, 4, 1])\n\tDescription: The input labels to the Turbofan dataset....], [(Wrapper)>[PointerTensor | me:77557575669 -> alice:66802965416]\n\tTags: #turbofan #dataset #Y \n\tShape: torch.Size([155, 4, 1])\n\tDescription: The input labels to the Turbofan dataset....]]\n"
    }
   ],
   "source": [
    "print(target)"
   ]
  },
  {
   "cell_type": "markdown",
   "metadata": {},
   "source": [
    "## Run training"
   ]
  },
  {
   "cell_type": "code",
   "execution_count": 15,
   "metadata": {
    "scrolled": false,
    "tags": []
   },
   "outputs": [
    {
     "output_type": "stream",
     "name": "stdout",
     "text": "Loading initial model...\nBeginning training...\nTrain epoch: 0\t| Worker: bob\t| [0/100 (0%)] | \tLoss: 45.337894\t| Time: 12.675019s\nTrain epoch: 0\t| Worker: alice\t| [0/100 (0%)] | \tLoss: 22.732014\t| Time: 10.897282s\nTrain epoch: 0\t complete| Time: 23.577961s | Mean iteration time: 0.017529\nTrain epoch: 5\t| Worker: bob\t| [5/100 (5%)] | \tLoss: 38.419128\t| Time: 10.289631s\nTrain epoch: 5\t| Worker: alice\t| [5/100 (5%)] | \tLoss: 19.476685\t| Time: 10.318035s\nTrain epoch: 5\t complete| Time: 20.610154s | Mean iteration time: 0.016597\nTrain epoch: 10\t| Worker: bob\t| [10/100 (10%)] | \tLoss: 42.945847\t| Time: 10.330967s\nTrain epoch: 10\t| Worker: alice\t| [10/100 (10%)] | \tLoss: 19.633743\t| Time: 10.296988s\nTrain epoch: 10\t complete| Time: 20.630351s | Mean iteration time: 0.016564\nTrain epoch: 15\t| Worker: bob\t| [15/100 (15%)] | \tLoss: 42.554695\t| Time: 11.581457s\nTrain epoch: 15\t| Worker: alice\t| [15/100 (15%)] | \tLoss: 19.188400\t| Time: 10.668506s\nTrain epoch: 15\t complete| Time: 22.252657s | Mean iteration time: 0.017162\nTrain epoch: 20\t| Worker: bob\t| [20/100 (20%)] | \tLoss: 41.530785\t| Time: 10.121290s\nTrain epoch: 20\t| Worker: alice\t| [20/100 (20%)] | \tLoss: 19.202438\t| Time: 10.014656s\nTrain epoch: 20\t complete| Time: 20.138241s | Mean iteration time: 0.016108\nTrain epoch: 25\t| Worker: bob\t| [25/100 (25%)] | \tLoss: 41.314667\t| Time: 9.975425s\nTrain epoch: 25\t| Worker: alice\t| [25/100 (25%)] | \tLoss: 19.545181\t| Time: 10.121154s\nTrain epoch: 25\t complete| Time: 20.099049s | Mean iteration time: 0.016281\nTrain epoch: 30\t| Worker: bob\t| [30/100 (30%)] | \tLoss: 41.820511\t| Time: 10.896235s\nTrain epoch: 30\t| Worker: alice\t| [30/100 (30%)] | \tLoss: 21.222336\t| Time: 10.104391s\nTrain epoch: 30\t complete| Time: 21.003189s | Mean iteration time: 0.016253\nTrain epoch: 35\t| Worker: bob\t| [35/100 (35%)] | \tLoss: 41.788239\t| Time: 11.072628s\nTrain epoch: 35\t| Worker: alice\t| [35/100 (35%)] | \tLoss: 20.736919\t| Time: 10.892522s\nTrain epoch: 35\t complete| Time: 21.968054s | Mean iteration time: 0.017521\nTrain epoch: 40\t| Worker: bob\t| [40/100 (40%)] | \tLoss: 42.764786\t| Time: 10.771597s\nTrain epoch: 40\t| Worker: alice\t| [40/100 (40%)] | \tLoss: 20.758274\t| Time: 10.887133s\nTrain epoch: 40\t complete| Time: 21.661668s | Mean iteration time: 0.017513\nTrain epoch: 45\t| Worker: bob\t| [45/100 (45%)] | \tLoss: 42.081406\t| Time: 10.169364s\nTrain epoch: 45\t| Worker: alice\t| [45/100 (45%)] | \tLoss: 19.465515\t| Time: 10.038955s\nTrain epoch: 45\t complete| Time: 20.210776s | Mean iteration time: 0.016148\nTrain epoch: 50\t| Worker: bob\t| [50/100 (50%)] | \tLoss: 41.553879\t| Time: 10.187041s\nTrain epoch: 50\t| Worker: alice\t| [50/100 (50%)] | \tLoss: 20.979378\t| Time: 10.113008s\nTrain epoch: 50\t complete| Time: 20.302402s | Mean iteration time: 0.016266\nTrain epoch: 55\t| Worker: bob\t| [55/100 (55%)] | \tLoss: 42.310707\t| Time: 10.502042s\nTrain epoch: 55\t| Worker: alice\t| [55/100 (55%)] | \tLoss: 20.816597\t| Time: 10.214767s\nTrain epoch: 55\t complete| Time: 20.719127s | Mean iteration time: 0.016430\nTrain epoch: 60\t| Worker: bob\t| [60/100 (60%)] | \tLoss: 40.154587\t| Time: 10.244923s\nTrain epoch: 60\t| Worker: alice\t| [60/100 (60%)] | \tLoss: 20.343044\t| Time: 10.059641s\nTrain epoch: 60\t complete| Time: 20.306869s | Mean iteration time: 0.016181\nTrain epoch: 65\t| Worker: bob\t| [65/100 (65%)] | \tLoss: 39.976868\t| Time: 10.070957s\nTrain epoch: 65\t| Worker: alice\t| [65/100 (65%)] | \tLoss: 20.237686\t| Time: 9.960894s\nTrain epoch: 65\t complete| Time: 20.034382s | Mean iteration time: 0.016022\nTrain epoch: 70\t| Worker: bob\t| [70/100 (70%)] | \tLoss: 37.376892\t| Time: 10.719355s\nTrain epoch: 70\t| Worker: alice\t| [70/100 (70%)] | \tLoss: 20.226906\t| Time: 10.722567s\nTrain epoch: 70\t complete| Time: 21.444434s | Mean iteration time: 0.017249\nTrain epoch: 75\t| Worker: bob\t| [75/100 (75%)] | \tLoss: 36.250000\t| Time: 11.183151s\nTrain epoch: 75\t| Worker: alice\t| [75/100 (75%)] | \tLoss: 20.202568\t| Time: 10.451340s\nTrain epoch: 75\t complete| Time: 21.636970s | Mean iteration time: 0.016811\nTrain epoch: 80\t| Worker: bob\t| [80/100 (80%)] | \tLoss: 36.250000\t| Time: 10.587240s\nTrain epoch: 80\t| Worker: alice\t| [80/100 (80%)] | \tLoss: 20.431053\t| Time: 10.332245s\nTrain epoch: 80\t complete| Time: 20.921978s | Mean iteration time: 0.016620\nTrain epoch: 85\t| Worker: bob\t| [85/100 (85%)] | \tLoss: 36.250000\t| Time: 10.428301s\nTrain epoch: 85\t| Worker: alice\t| [85/100 (85%)] | \tLoss: 20.469627\t| Time: 10.340234s\nTrain epoch: 85\t complete| Time: 20.771141s | Mean iteration time: 0.016631\nTrain epoch: 90\t| Worker: bob\t| [90/100 (90%)] | \tLoss: 36.250000\t| Time: 10.079077s\nTrain epoch: 90\t| Worker: alice\t| [90/100 (90%)] | \tLoss: 20.313522\t| Time: 9.953935s\nTrain epoch: 90\t complete| Time: 20.035547s | Mean iteration time: 0.016011\nTrain epoch: 95\t| Worker: bob\t| [95/100 (95%)] | \tLoss: 36.250000\t| Time: 10.195024s\nTrain epoch: 95\t| Worker: alice\t| [95/100 (95%)] | \tLoss: 20.422569\t| Time: 11.193485s\nTrain epoch: 95\t complete| Time: 21.390831s | Mean iteration time: 0.017993\nSaving model trained with 100 epochs at ./ihpc_models...\n"
    }
   ],
   "source": [
    "# model = TurbofanModel(SENSOR_MEAN, SENSOR_STD, TRAIN_COLS)\n",
    "model = BatchNormFCModel(WINDOW_SIZE, TRAIN_COLS)\n",
    "model.to(device)\n",
    "optimizer = optim.SGD(model.parameters(), lr=0.01)\n",
    "criterion = nn.L1Loss() # used by Turbofan demo authors\n",
    "# criterion = nn.CrossEntropyLoss()                  \n",
    "if LOAD_MODEL:\n",
    "    try:\n",
    "        print(\"Loading initial model...\")\n",
    "        model = load_initial_model()\n",
    "        model.to_device\n",
    "        print(\"Done.\")\n",
    "    except: \"No initial model found\"\n",
    "\n",
    "def train(max_epochs):\n",
    "    model.train()\n",
    "    print(\"Beginning training...\")\n",
    "    for epoch in range(max_epochs):\n",
    "        epoch_start_t = time()\n",
    "        for i in range(len(data)):\n",
    "            # loop over workers\n",
    "            worker_start_t = time()\n",
    "            for j in range(len(data[i])):\n",
    "                # loop over batches\n",
    "                worker = data[i][j].location\n",
    "                model.send(worker)\n",
    "                it_ts = []\n",
    "                for k in range(len(data[i][j])):\n",
    "                    mb_start_t = time()\n",
    "                    # loop over minibatches\n",
    "                    mb_data = data[i][j][k]\n",
    "                    mb_target = target[i][j][k]\n",
    "                    optimizer.zero_grad()\n",
    "                    pred = model(mb_data)\n",
    "                    loss = criterion(pred, mb_target)\n",
    "                    loss.backward()\n",
    "                    optimizer.step()\n",
    "                    it_ts.append(time()-mb_start_t)\n",
    "                model.get()\n",
    "                loss = loss.get()\n",
    "\n",
    "            worker_t = time()-worker_start_t\n",
    "            if epoch % METRICS_INTERVAL==0 or epoch == MAX_EPOCHS:\n",
    "                print('Train epoch: {}\\t| Worker: {}\\t| [{}/{} ({:.0f}%)] | \\tLoss: {:.6f}\\t| Time: {:.6f}s'.format(epoch, worker.id, epoch, MAX_EPOCHS, 100. *  epoch / MAX_EPOCHS, loss.item(), worker_t)) \n",
    "        mean_it_t = mean(it_ts)/len(data[0][0][0])\n",
    "        if epoch % METRICS_INTERVAL==0:\n",
    "            epoch_t = time()-epoch_start_t\n",
    "            print(f'Train epoch: {epoch}\\t complete| Time: {epoch_t:.6f}s | Mean iteration time: {mean_it_t:.6f}')\n",
    "    \n",
    "train(MAX_EPOCHS)\n",
    "\n",
    "if SAVE_MODEL==True:\n",
    "    print(f\"Saving model trained with {MAX_EPOCHS} epochs at {MODEL_DIR}...\")\n",
    "    save_model(model, MAX_EPOCHS, TRAIN_ID)"
   ]
  },
  {
   "cell_type": "code",
   "execution_count": null,
   "metadata": {},
   "outputs": [],
   "source": []
  }
 ],
 "metadata": {
  "kernelspec": {
   "display_name": "Python 3.7.7 64-bit ('syft': conda)",
   "language": "python",
   "name": "python_defaultSpec_1596529633197"
  },
  "language_info": {
   "codemirror_mode": {
    "name": "ipython",
    "version": 3
   },
   "file_extension": ".py",
   "mimetype": "text/x-python",
   "name": "python",
   "nbconvert_exporter": "python",
   "pygments_lexer": "ipython3",
   "version": "3.7.7-final"
  }
 },
 "nbformat": 4,
 "nbformat_minor": 4
}